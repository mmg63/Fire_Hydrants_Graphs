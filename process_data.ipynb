{
 "cells": [
  {
   "cell_type": "code",
   "execution_count": 1,
   "metadata": {},
   "outputs": [],
   "source": [
    "import pandas as pd\n",
    "import numpy as np"
   ]
  },
  {
   "cell_type": "markdown",
   "metadata": {},
   "source": [
    "#Load the data and print the head"
   ]
  },
  {
   "cell_type": "code",
   "execution_count": 2,
   "metadata": {
    "editable": true,
    "slideshow": {
     "slide_type": ""
    },
    "tags": []
   },
   "outputs": [
    {
     "name": "stdout",
     "output_type": "stream",
     "text": [
      "-13167886.9375477\n",
      "4027209.86454236\n",
      "-13155553.8572792\n"
     ]
    }
   ],
   "source": [
    "csv_data = pd.read_csv('data/Fire_Hydrants_(DWP).csv')\n",
    "# print(csv_data.head())\n",
    "# print(csv_data.X)\n",
    "# print(csv_data.Y)\n",
    "print(csv_data.X[0])\n",
    "print(csv_data.Y[0])\n",
    "print(csv_data.X[1])"
   ]
  },
  {
   "cell_type": "code",
   "execution_count": 9,
   "metadata": {},
   "outputs": [
    {
     "name": "stdout",
     "output_type": "stream",
     "text": [
      "Geodata type:  <class 'geojson.feature.FeatureCollection'>\n",
      "{\"geometry\": {\"coordinates\": [-118.289141, 33.988142], \"type\": \"Point\"}, \"properties\": {\"HYDRTS_ID\": 7726, \"MAIN_SIZE\": 6, \"MAKE_CODE\": \"CLOW\", \"MAKE_DESCRIPTION\": \"Clow\", \"NLA_URL\": \"navigatela/reports/fire_hydrants_dwp.cfm?PK=7726\", \"OBJECTID\": 1, \"SIZE_CODE\": \"2 1/2 X 4D\", \"TOOLTIP\": \"Size: 2 1/2 X 4D\\\\nType: Clow\\\\nMain Size: 6\"}, \"type\": \"Feature\"}\n"
     ]
    }
   ],
   "source": [
    "import geojson\n",
    "\n",
    "with open('data/Fire_Hydrants_(DWP).geojson', 'r') as f:\n",
    "    # print(f.read())\n",
    "    geojson_data = geojson.load(f)\n",
    "\n",
    "print('Geodata type: ',type(geojson_data))\n",
    "print(geojson_data[0])\n",
    "# geojson_data['']\n"
   ]
  },
  {
   "cell_type": "markdown",
   "metadata": {},
   "source": []
  }
 ],
 "metadata": {
  "kernelspec": {
   "display_name": "Python 3 (ipykernel)",
   "language": "python",
   "name": "python3"
  },
  "language_info": {
   "codemirror_mode": {
    "name": "ipython",
    "version": 3
   },
   "file_extension": ".py",
   "mimetype": "text/x-python",
   "name": "python",
   "nbconvert_exporter": "python",
   "pygments_lexer": "ipython3",
   "version": "3.11.8"
  }
 },
 "nbformat": 4,
 "nbformat_minor": 4
}
