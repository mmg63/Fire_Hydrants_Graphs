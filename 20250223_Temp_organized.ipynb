{
 "cells": [
  {
   "cell_type": "markdown",
   "metadata": {},
   "source": [
    "# ✨ Summary\n",
    "\n",
    "✅ Step 1: Load Fire Hydrant & Fire Hazard Zone Data\n",
    "\n",
    "✅ Step 2: Extract Coordinates (from GeoJSON or CSV)\n",
    "\n",
    "✅ Step 3: Convert Latitude/Longitude to UTM (meters)\n",
    "\n",
    "✅ Step 4: Plot hydrants & hazard zones in 2D\n",
    "\n",
    "✅ Step 5: Overlay on OpenStreetMap (OSM)\n",
    "\n",
    "✅ Step 6: Compute distances between hydrants\n",
    "\n",
    "✅ Step 7: Calculate Distances Between Fire Hydrants\n",
    "\n",
    "✅ Step 8: Cluster fire hydrants using DBSCAN\n",
    "\n",
    "✅ Step 9: Compute shortest paths between hydrants using NetworkX\n",
    "\n",
    "✅ Step 10: Generate a heatmap of fire hydrant density\n"
   ]
  },
  {
   "cell_type": "markdown",
   "metadata": {},
   "source": [
    "# Step 1: Load Fire Hydrant Data (CSV or GeoJSON)"
   ]
  },
  {
   "cell_type": "code",
   "execution_count": null,
   "metadata": {},
   "outputs": [],
   "source": [
    "import geopandas as gpd\n",
    "import pandas as pd\n",
    "import json\n",
    "import matplotlib.pyplot as plt\n",
    "import contextily as ctx  # For OSM Basemap\n",
    "from shapely.geometry import Point, Polygon\n",
    "from pyproj import Proj, transform\n",
    "from scipy.spatial.distance import pdist, squareform\n",
    "import numpy as np\n",
    "\n",
    "# File Paths\n",
    "fire_hydrant_geojson = \"data/Fire_Hydrants_(DWP).geojson\"\n",
    "fire_hydrant_csv = \"data/Fire_Hydrants_(DWP).csv\"\n",
    "fire_hazard_geojson = \"data/Very_High_Fire_Hazard_Severity_Zones.geojson\"\n"
   ]
  },
  {
   "cell_type": "markdown",
   "metadata": {},
   "source": [
    " # Step 2: Load Fire Hydrant Locations\n"
   ]
  },
  {
   "cell_type": "code",
   "execution_count": null,
   "metadata": {},
   "outputs": [],
   "source": [
    "# Try loading hydrants from GeoJSON first\n",
    "try:\n",
    "    hydrant_gdf = gpd.read_file(fire_hydrant_geojson)\n",
    "    print(\"✅ Fire hydrants loaded from GeoJSON.\")\n",
    "except Exception as e:\n",
    "    print(\"⚠️ GeoJSON load failed. Trying CSV...\")\n",
    "\n",
    "    # If GeoJSON fails, load from CSV\n",
    "    try:\n",
    "        hydrant_df = pd.read_csv(fire_hydrant_csv)\n",
    "\n",
    "        # Convert to GeoDataFrame\n",
    "        hydrant_gdf = gpd.GeoDataFrame(\n",
    "            hydrant_df,\n",
    "            geometry=gpd.points_from_xy(hydrant_df.Longitude, hydrant_df.Latitude),\n",
    "            crs=\"EPSG:4326\"\n",
    "        )\n",
    "        print(\"✅ Fire hydrants loaded from CSV.\")\n",
    "\n",
    "    except Exception as e:\n",
    "        print(\"❌ Error loading fire hydrants:\", e)\n",
    "        hydrant_gdf = None\n"
   ]
  },
  {
   "cell_type": "markdown",
   "metadata": {},
   "source": [
    "# Step 3: Load Fire Hazard Zones"
   ]
  },
  {
   "cell_type": "code",
   "execution_count": null,
   "metadata": {},
   "outputs": [],
   "source": [
    "# Load Fire Hazard Zones\n",
    "hazard_gdf = gpd.read_file(fire_hazard_geojson)\n",
    "print(\"✅ Fire Hazard Zones Loaded\")\n"
   ]
  },
  {
   "cell_type": "markdown",
   "metadata": {},
   "source": [
    "# Step 4: Convert Latitude/Longitude → UTM (Meters)"
   ]
  },
  {
   "cell_type": "code",
   "execution_count": null,
   "metadata": {},
   "outputs": [],
   "source": [
    "# Define Projections\n",
    "wgs84 = Proj(init=\"epsg:4326\")  # Latitude/Longitude (WGS84)\n",
    "utm = Proj(init=\"epsg:32611\")   # UTM Zone 11N (for Los Angeles)\n",
    "\n",
    "# Convert Fire Hydrant Locations\n",
    "hydrant_gdf = hydrant_gdf.to_crs(epsg=32611)\n",
    "\n",
    "# Convert Fire Hazard Zones\n",
    "hazard_gdf = hazard_gdf.to_crs(epsg=32611)\n",
    "\n",
    "print(\"✅ All data converted to UTM projection.\")\n"
   ]
  },
  {
   "cell_type": "markdown",
   "metadata": {},
   "source": [
    "# Step 5: Plot Hydrants & Fire Hazard Zones"
   ]
  },
  {
   "cell_type": "code",
   "execution_count": null,
   "metadata": {},
   "outputs": [],
   "source": [
    "# Plot Fire Hydrant Locations & Fire Hazard Zones\n",
    "fig, ax = plt.subplots(figsize=(12, 10))\n",
    "\n",
    "# Plot Fire Hazard Zones\n",
    "hazard_gdf.plot(ax=ax, edgecolor=\"black\", facecolor=\"lightblue\", alpha=0.5, label=\"Fire Hazard Zones\")\n",
    "\n",
    "# Plot Fire Hydrants\n",
    "hydrant_gdf.plot(ax=ax, color=\"red\", markersize=1, label=\"Fire Hydrants\")\n",
    "\n",
    "# Formatting\n",
    "plt.xlabel(\"X Coordinate (meters)\")\n",
    "plt.ylabel(\"Y Coordinate (meters)\")\n",
    "plt.title(\"Fire Hydrants & Fire Hazard Zones (Projected in UTM)\")\n",
    "plt.legend()\n",
    "plt.grid()\n",
    "plt.show()\n"
   ]
  },
  {
   "cell_type": "markdown",
   "metadata": {},
   "source": [
    "# Step 6: Overlay on OpenStreetMap (OSM)"
   ]
  },
  {
   "cell_type": "code",
   "execution_count": null,
   "metadata": {},
   "outputs": [],
   "source": [
    "fig, ax = plt.subplots(figsize=(12, 10))\n",
    "\n",
    "# Convert to Web Mercator (EPSG 3857) for OSM\n",
    "hydrant_gdf.to_crs(epsg=3857).plot(ax=ax, color=\"red\", markersize=1, label=\"Fire Hydrants\")\n",
    "hazard_gdf.to_crs(epsg=3857).plot(ax=ax, edgecolor=\"black\", facecolor=\"lightblue\", alpha=0.5, label=\"Fire Hazard Zones\")\n",
    "\n",
    "# Add OpenStreetMap (OSM)\n",
    "ctx.add_basemap(ax, source=ctx.providers.OpenStreetMap.Mapnik)\n",
    "\n",
    "# Formatting\n",
    "plt.xlabel(\"Longitude\")\n",
    "plt.ylabel(\"Latitude\")\n",
    "plt.title(\"Fire Hydrant Locations & Fire Hazard Zones (OSM)\")\n",
    "plt.legend()\n",
    "plt.grid()\n",
    "plt.show()\n"
   ]
  },
  {
   "cell_type": "markdown",
   "metadata": {},
   "source": [
    "# Step 7: Calculate Distances Between Fire Hydrants"
   ]
  },
  {
   "cell_type": "code",
   "execution_count": null,
   "metadata": {},
   "outputs": [],
   "source": [
    "# Extract UTM coordinates for hydrants\n",
    "utm_coordinates = np.array([(p.x, p.y) for p in hydrant_gdf.geometry])\n",
    "\n",
    "# Compute pairwise Euclidean distances (meters)\n",
    "distance_matrix = pd.DataFrame(\n",
    "    squareform(pdist(utm_coordinates)), \n",
    "    columns=[f\"H{i+1}\" for i in range(len(utm_coordinates))], \n",
    "    index=[f\"H{i+1}\" for i in range(len(utm_coordinates))]\n",
    ")\n",
    "\n",
    "print(\"✅ Distance matrix calculated (meters). Showing first 5 rows:\")\n",
    "print(distance_matrix.iloc[:5, :5])\n"
   ]
  },
  {
   "cell_type": "markdown",
   "metadata": {},
   "source": [
    "# 🔹 Step 8: Cluster Fire Hydrants Using DBSCAN\n",
    "\n",
    "We'll use DBSCAN (Density-Based Spatial Clustering of Applications with Noise) to group nearby hydrants into clusters."
   ]
  },
  {
   "cell_type": "code",
   "execution_count": null,
   "metadata": {},
   "outputs": [],
   "source": [
    "from sklearn.cluster import DBSCAN\n",
    "import seaborn as sns\n",
    "\n",
    "# DBSCAN Clustering\n",
    "dbscan = DBSCAN(eps=100, min_samples=5)  # eps in meters (100m radius)\n",
    "hydrant_gdf[\"cluster\"] = dbscan.fit_predict(utm_coordinates)\n",
    "\n",
    "# Plot Clusters\n",
    "fig, ax = plt.subplots(figsize=(12, 10))\n",
    "hydrant_gdf.plot(ax=ax, column=\"cluster\", cmap=\"viridis\", markersize=1, legend=True)\n",
    "hazard_gdf.plot(ax=ax, edgecolor=\"black\", facecolor=\"lightblue\", alpha=0.5, label=\"Fire Hazard Zones\")\n",
    "\n",
    "plt.xlabel(\"X Coordinate (meters)\")\n",
    "plt.ylabel(\"Y Coordinate (meters)\")\n",
    "plt.title(\"Fire Hydrant Clusters (DBSCAN)\")\n",
    "plt.legend()\n",
    "plt.grid()\n",
    "plt.show()\n"
   ]
  },
  {
   "cell_type": "markdown",
   "metadata": {},
   "source": [
    "# 🔹 Step 9: Compute Shortest Paths Between Fire Hydrants\n",
    "\n",
    "We'll build a graph network and find the shortest path between hydrants."
   ]
  },
  {
   "cell_type": "code",
   "execution_count": null,
   "metadata": {},
   "outputs": [],
   "source": [
    "import networkx as nx\n",
    "\n",
    "# Create Graph from Hydrant Locations\n",
    "G = nx.Graph()\n",
    "\n",
    "# Add Nodes (Hydrant Positions)\n",
    "for i, (x, y) in enumerate(utm_coordinates):\n",
    "    G.add_node(i, pos=(x, y))\n",
    "\n",
    "# Add Edges (Connecting Nearby Hydrants)\n",
    "for i in range(len(utm_coordinates)):\n",
    "    for j in range(i + 1, len(utm_coordinates)):\n",
    "        dist = np.linalg.norm(utm_coordinates[i] - utm_coordinates[j])\n",
    "        if dist < 200:  # Connect hydrants within 200 meters\n",
    "            G.add_edge(i, j, weight=dist)\n",
    "\n",
    "# Compute Shortest Path Between Two Hydrants (Example: H1 to H10)\n",
    "shortest_path = nx.shortest_path(G, source=0, target=9, weight=\"weight\")\n",
    "\n",
    "# Plot Shortest Path\n",
    "fig, ax = plt.subplots(figsize=(12, 10))\n",
    "nx.draw(G, pos=nx.get_node_attributes(G, \"pos\"), node_color=\"red\", edge_color=\"gray\", node_size=30, ax=ax)\n",
    "nx.draw_networkx_nodes(G, pos=nx.get_node_attributes(G, \"pos\"), nodelist=shortest_path, node_color=\"blue\", node_size=50, ax=ax)\n",
    "nx.draw_networkx_edges(G, pos=nx.get_node_attributes(G, \"pos\"), edgelist=[(shortest_path[i], shortest_path[i+1]) for i in range(len(shortest_path)-1)], edge_color=\"blue\", width=2, ax=ax)\n",
    "\n",
    "plt.title(\"Shortest Path Between Fire Hydrants\")\n",
    "plt.show()\n"
   ]
  },
  {
   "cell_type": "markdown",
   "metadata": {},
   "source": [
    "# 🔹 Step 10: Generate a Heatmap of Fire Hydrant Density"
   ]
  },
  {
   "cell_type": "code",
   "execution_count": null,
   "metadata": {},
   "outputs": [],
   "source": [
    "import folium\n",
    "from folium.plugins import HeatMap\n",
    "\n",
    "# Convert hydrant locations to list of lat/lon\n",
    "hydrant_latlon = [(p.y, p.x) for p in hydrant_gdf.to_crs(epsg=4326).geometry]\n",
    "\n",
    "# Create Base Map\n",
    "m = folium.Map(location=[np.mean([p.y for p in hydrant_gdf.geometry]), np.mean([p.x for p in hydrant_gdf.geometry])], zoom_start=12)\n",
    "\n",
    "# Add Heatmap Layer\n",
    "HeatMap(hydrant_latlon, radius=15, blur=10, max_zoom=1).add_to(m)\n",
    "\n",
    "# Save and Display Map\n",
    "m.save(\"fire_hydrant_heatmap.html\")\n",
    "m\n"
   ]
  },
  {
   "cell_type": "markdown",
   "metadata": {},
   "source": [
    "# Step 11.1: Perform a Spatial Join Between Hydrants & Fire Hazard Zones"
   ]
  },
  {
   "cell_type": "code",
   "execution_count": null,
   "metadata": {},
   "outputs": [],
   "source": [
    "# Ensure both datasets have the same CRS (Coordinate Reference System)\n",
    "hydrant_gdf = hydrant_gdf.to_crs(hazard_gdf.crs)\n",
    "\n",
    "# Perform Spatial Join: Find hydrants inside hazard zones\n",
    "hydrants_in_hazard = gpd.sjoin(hydrant_gdf, hazard_gdf, how=\"inner\", predicate=\"within\")\n",
    "\n",
    "# Display results\n",
    "print(f\"Total Fire Hydrants in Hazardous Zones: {len(hydrants_in_hazard)}\")\n",
    "hydrants_in_hazard.head()\n"
   ]
  },
  {
   "cell_type": "markdown",
   "metadata": {},
   "source": [
    "# Step 11.2: Plot Fire Hydrants in & Outside Hazardous Zones"
   ]
  },
  {
   "cell_type": "code",
   "execution_count": null,
   "metadata": {},
   "outputs": [],
   "source": [
    "fig, ax = plt.subplots(figsize=(12, 10))\n",
    "\n",
    "# Plot Fire Hazard Zones\n",
    "hazard_gdf.plot(ax=ax, edgecolor=\"black\", facecolor=\"lightcoral\", alpha=0.5, label=\"Fire Hazard Zones\")\n",
    "\n",
    "# Plot Fire Hydrants Inside Hazard Zones\n",
    "hydrants_in_hazard.plot(ax=ax, color=\"blue\", markersize=1, label=\"Hydrants in Hazard Zones\")\n",
    "\n",
    "# Plot Fire Hydrants Outside Hazard Zones\n",
    "hydrant_gdf[~hydrant_gdf.index.isin(hydrants_in_hazard.index)].plot(ax=ax, color=\"green\", markersize=1, label=\"Safe Hydrants\")\n",
    "\n",
    "# Formatting\n",
    "plt.xlabel(\"X Coordinate (meters)\")\n",
    "plt.ylabel(\"Y Coordinate (meters)\")\n",
    "plt.title(\"Fire Hydrants Inside and Outside Hazard Zones\")\n",
    "plt.legend()\n",
    "plt.grid()\n",
    "plt.show()\n"
   ]
  },
  {
   "cell_type": "markdown",
   "metadata": {},
   "source": [
    "# Step 11.3: Percentage of Fire Hydrants in Hazardous Zones"
   ]
  },
  {
   "cell_type": "code",
   "execution_count": null,
   "metadata": {},
   "outputs": [],
   "source": [
    "# Calculate percentage of hydrants in hazard zones\n",
    "total_hydrants = len(hydrant_gdf)\n",
    "hazard_hydrants = len(hydrants_in_hazard)\n",
    "\n",
    "percentage_in_hazard = (hazard_hydrants / total_hydrants) * 100\n",
    "print(f\"Percentage of Fire Hydrants in Hazard Zones: {percentage_in_hazard:.2f}%\")\n"
   ]
  },
  {
   "cell_type": "code",
   "execution_count": null,
   "metadata": {},
   "outputs": [],
   "source": []
  }
 ],
 "metadata": {
  "kernelspec": {
   "display_name": "torch_M2",
   "language": "python",
   "name": "python3"
  },
  "language_info": {
   "codemirror_mode": {
    "name": "ipython",
    "version": 3
   },
   "file_extension": ".py",
   "mimetype": "text/x-python",
   "name": "python",
   "nbconvert_exporter": "python",
   "pygments_lexer": "ipython3",
   "version": "3.11.8"
  }
 },
 "nbformat": 4,
 "nbformat_minor": 2
}
